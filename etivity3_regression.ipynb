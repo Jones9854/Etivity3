{
 "cells": [
  {
   "cell_type": "markdown",
   "metadata": {},
   "source": [
    "Student Name: Christian Jones\n",
    "\n",
    "Student ID: 23294876"
   ]
  },
  {
   "cell_type": "markdown",
   "metadata": {},
   "source": [
    "# Task 2: Regression\n",
    "\n",
    "Train three regression pipelines with Random Forest, Linear Regression and a third regressor of your choice as the final estimator, respectively, for predicting the value of `insurance_cost`.\n",
    "\n",
    "1. For each regressor, include data preparation and dimensionality reduction steps in the main pipeline.\n",
    "2. You can choose any regressor as the third one. Some options are SVR and MLPRegressor, but you are not limited to them.\n",
    "3. For the dimensionality reduction step use PCA, RFE and a third dimensionality reduction (incl. feature selection) technique in at least one pipeline.\n",
    "4. Use grid search for hyperparameter tuning and replicate the process in the example notebook Tutorial 3-2 - Regression and Dimensionality Reduction.ipynb to evaluate and compare the models you have trained and pick the best one.\n",
    "5. Summarise your experience in a markdown cell (max 150 words in a markdown cell)."
   ]
  }
 ],
 "metadata": {
  "language_info": {
   "name": "python"
  }
 },
 "nbformat": 4,
 "nbformat_minor": 2
}
